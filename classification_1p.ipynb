{
 "cells": [
  {
   "cell_type": "markdown",
   "metadata": {},
   "source": [
    "# Breast Cancer Detection\n",
    "This project aims to develop a machine learning model to detect breast cancer from medical imaging data. The model is trained on a dataset containing CT scans and their corresponding classifications. Below is a step-by-step explanation of the code used in this project."
   ]
  },
  {
   "cell_type": "markdown",
   "metadata": {},
   "source": [
    "### Importing Libraries"
   ]
  },
  {
   "cell_type": "code",
   "execution_count": 1,
   "metadata": {},
   "outputs": [],
   "source": [
    "import os\n",
    "import numpy as np\n",
    "import pandas as pd\n",
    "import matplotlib.pyplot as plt\n",
    "import tensorflow as tf\n",
    "from tensorflow import keras\n",
    "from sklearn.preprocessing import LabelEncoder\n",
    "from tensorflow.keras.preprocessing.image import load_img, img_to_array"
   ]
  },
  {
   "cell_type": "markdown",
   "metadata": {},
   "source": [
    "### Loading the Data"
   ]
  },
  {
   "cell_type": "code",
   "execution_count": 2,
   "metadata": {},
   "outputs": [],
   "source": [
    "# Load your training and testing data with a semicolon delimiter\n",
    "train_data = pd.read_csv('train_data_1p.csv', delimiter=';')\n",
    "test_data = pd.read_csv('test_data_1p.csv', delimiter=';')"
   ]
  },
  {
   "cell_type": "markdown",
   "metadata": {},
   "source": [
    "### Viewing the Data"
   ]
  },
  {
   "cell_type": "code",
   "execution_count": 3,
   "metadata": {},
   "outputs": [
    {
     "data": {
      "text/html": [
       "<div>\n",
       "<style scoped>\n",
       "    .dataframe tbody tr th:only-of-type {\n",
       "        vertical-align: middle;\n",
       "    }\n",
       "\n",
       "    .dataframe tbody tr th {\n",
       "        vertical-align: top;\n",
       "    }\n",
       "\n",
       "    .dataframe thead th {\n",
       "        text-align: right;\n",
       "    }\n",
       "</style>\n",
       "<table border=\"1\" class=\"dataframe\">\n",
       "  <thead>\n",
       "    <tr style=\"text-align: right;\">\n",
       "      <th></th>\n",
       "      <th>ct scan</th>\n",
       "      <th>classification</th>\n",
       "    </tr>\n",
       "  </thead>\n",
       "  <tbody>\n",
       "    <tr>\n",
       "      <th>1534</th>\n",
       "      <td>1.3.6.1.4.1.9590.100.1.2.398510539611405601424...</td>\n",
       "      <td>4</td>\n",
       "    </tr>\n",
       "    <tr>\n",
       "      <th>1535</th>\n",
       "      <td>1.3.6.1.4.1.9590.100.1.2.327261889611833044623...</td>\n",
       "      <td>4</td>\n",
       "    </tr>\n",
       "    <tr>\n",
       "      <th>1536</th>\n",
       "      <td>1.3.6.1.4.1.9590.100.1.2.148920323810559075320...</td>\n",
       "      <td>2</td>\n",
       "    </tr>\n",
       "    <tr>\n",
       "      <th>1537</th>\n",
       "      <td>1.3.6.1.4.1.9590.100.1.2.141379766611952338808...</td>\n",
       "      <td>2</td>\n",
       "    </tr>\n",
       "    <tr>\n",
       "      <th>1538</th>\n",
       "      <td>1.3.6.1.4.1.9590.100.1.2.163878893312280121829...</td>\n",
       "      <td>5</td>\n",
       "    </tr>\n",
       "    <tr>\n",
       "      <th>1539</th>\n",
       "      <td>1.3.6.1.4.1.9590.100.1.2.215164923711360518726...</td>\n",
       "      <td>5</td>\n",
       "    </tr>\n",
       "    <tr>\n",
       "      <th>1540</th>\n",
       "      <td>1.3.6.1.4.1.9590.100.1.2.398227953312611741920...</td>\n",
       "      <td>2</td>\n",
       "    </tr>\n",
       "    <tr>\n",
       "      <th>1541</th>\n",
       "      <td>1.3.6.1.4.1.9590.100.1.2.832140770136026940308...</td>\n",
       "      <td>2</td>\n",
       "    </tr>\n",
       "    <tr>\n",
       "      <th>1542</th>\n",
       "      <td>1.3.6.1.4.1.9590.100.1.2.114030713125639071286...</td>\n",
       "      <td>4</td>\n",
       "    </tr>\n",
       "    <tr>\n",
       "      <th>1543</th>\n",
       "      <td>1.3.6.1.4.1.9590.100.1.2.197835155813429240930...</td>\n",
       "      <td>4</td>\n",
       "    </tr>\n",
       "  </tbody>\n",
       "</table>\n",
       "</div>"
      ],
      "text/plain": [
       "                                                ct scan  classification\n",
       "1534  1.3.6.1.4.1.9590.100.1.2.398510539611405601424...               4\n",
       "1535  1.3.6.1.4.1.9590.100.1.2.327261889611833044623...               4\n",
       "1536  1.3.6.1.4.1.9590.100.1.2.148920323810559075320...               2\n",
       "1537  1.3.6.1.4.1.9590.100.1.2.141379766611952338808...               2\n",
       "1538  1.3.6.1.4.1.9590.100.1.2.163878893312280121829...               5\n",
       "1539  1.3.6.1.4.1.9590.100.1.2.215164923711360518726...               5\n",
       "1540  1.3.6.1.4.1.9590.100.1.2.398227953312611741920...               2\n",
       "1541  1.3.6.1.4.1.9590.100.1.2.832140770136026940308...               2\n",
       "1542  1.3.6.1.4.1.9590.100.1.2.114030713125639071286...               4\n",
       "1543  1.3.6.1.4.1.9590.100.1.2.197835155813429240930...               4"
      ]
     },
     "execution_count": 3,
     "metadata": {},
     "output_type": "execute_result"
    }
   ],
   "source": [
    "train_data.tail(10)"
   ]
  },
  {
   "cell_type": "code",
   "execution_count": 4,
   "metadata": {},
   "outputs": [
    {
     "data": {
      "text/html": [
       "<div>\n",
       "<style scoped>\n",
       "    .dataframe tbody tr th:only-of-type {\n",
       "        vertical-align: middle;\n",
       "    }\n",
       "\n",
       "    .dataframe tbody tr th {\n",
       "        vertical-align: top;\n",
       "    }\n",
       "\n",
       "    .dataframe thead th {\n",
       "        text-align: right;\n",
       "    }\n",
       "</style>\n",
       "<table border=\"1\" class=\"dataframe\">\n",
       "  <thead>\n",
       "    <tr style=\"text-align: right;\">\n",
       "      <th></th>\n",
       "      <th>ct scan</th>\n",
       "      <th>classification</th>\n",
       "    </tr>\n",
       "  </thead>\n",
       "  <tbody>\n",
       "    <tr>\n",
       "      <th>316</th>\n",
       "      <td>1.3.6.1.4.1.9590.100.1.2.267631872912076578535...</td>\n",
       "      <td>4</td>\n",
       "    </tr>\n",
       "    <tr>\n",
       "      <th>317</th>\n",
       "      <td>1.3.6.1.4.1.9590.100.1.2.171130805912113865022...</td>\n",
       "      <td>4</td>\n",
       "    </tr>\n",
       "    <tr>\n",
       "      <th>318</th>\n",
       "      <td>1.3.6.1.4.1.9590.100.1.2.127823446114126149027...</td>\n",
       "      <td>3</td>\n",
       "    </tr>\n",
       "    <tr>\n",
       "      <th>319</th>\n",
       "      <td>1.3.6.1.4.1.9590.100.1.2.284356402310994259807...</td>\n",
       "      <td>3</td>\n",
       "    </tr>\n",
       "    <tr>\n",
       "      <th>320</th>\n",
       "      <td>1.3.6.1.4.1.9590.100.1.2.165100488610511635540...</td>\n",
       "      <td>4</td>\n",
       "    </tr>\n",
       "    <tr>\n",
       "      <th>321</th>\n",
       "      <td>1.3.6.1.4.1.9590.100.1.2.242128209412592948513...</td>\n",
       "      <td>4</td>\n",
       "    </tr>\n",
       "    <tr>\n",
       "      <th>322</th>\n",
       "      <td>1.3.6.1.4.1.9590.100.1.2.277098686410919869923...</td>\n",
       "      <td>3</td>\n",
       "    </tr>\n",
       "    <tr>\n",
       "      <th>323</th>\n",
       "      <td>1.3.6.1.4.1.9590.100.1.2.258951180113994815379...</td>\n",
       "      <td>3</td>\n",
       "    </tr>\n",
       "    <tr>\n",
       "      <th>324</th>\n",
       "      <td>1.3.6.1.4.1.9590.100.1.2.232308535910657861814...</td>\n",
       "      <td>3</td>\n",
       "    </tr>\n",
       "    <tr>\n",
       "      <th>325</th>\n",
       "      <td>1.3.6.1.4.1.9590.100.1.2.220517698812723136111...</td>\n",
       "      <td>3</td>\n",
       "    </tr>\n",
       "  </tbody>\n",
       "</table>\n",
       "</div>"
      ],
      "text/plain": [
       "                                               ct scan  classification\n",
       "316  1.3.6.1.4.1.9590.100.1.2.267631872912076578535...               4\n",
       "317  1.3.6.1.4.1.9590.100.1.2.171130805912113865022...               4\n",
       "318  1.3.6.1.4.1.9590.100.1.2.127823446114126149027...               3\n",
       "319  1.3.6.1.4.1.9590.100.1.2.284356402310994259807...               3\n",
       "320  1.3.6.1.4.1.9590.100.1.2.165100488610511635540...               4\n",
       "321  1.3.6.1.4.1.9590.100.1.2.242128209412592948513...               4\n",
       "322  1.3.6.1.4.1.9590.100.1.2.277098686410919869923...               3\n",
       "323  1.3.6.1.4.1.9590.100.1.2.258951180113994815379...               3\n",
       "324  1.3.6.1.4.1.9590.100.1.2.232308535910657861814...               3\n",
       "325  1.3.6.1.4.1.9590.100.1.2.220517698812723136111...               3"
      ]
     },
     "execution_count": 4,
     "metadata": {},
     "output_type": "execute_result"
    }
   ],
   "source": [
    "test_data.tail(10)"
   ]
  },
  {
   "cell_type": "markdown",
   "metadata": {},
   "source": [
    "### Preparing Image Data"
   ]
  },
  {
   "cell_type": "code",
   "execution_count": 5,
   "metadata": {},
   "outputs": [],
   "source": [
    "# Define the directory containing the images\n",
    "image_directory = 'jpeg'  # Adjust this to the path of your \"jpeg\" directory\n",
    "\n",
    "# Define the column name in your CSV file that contains the file paths\n",
    "image_column_name = \"ct scan\""
   ]
  },
  {
   "cell_type": "markdown",
   "metadata": {},
   "source": [
    "### Loading and Resizing Images"
   ]
  },
  {
   "cell_type": "code",
   "execution_count": 6,
   "metadata": {},
   "outputs": [],
   "source": [
    "# Define a function to preprocess the data\n",
    "def preprocess_data(data, image_column_name, image_directory, target_size=(224, 224), batch_size=32):\n",
    "    datagen = keras.preprocessing.image.ImageDataGenerator(rescale=1./255)\n",
    "    \n",
    "    image_data = []\n",
    "    labels = []  # Store the labels for each image\n",
    "    \n",
    "    for _, row in data.iterrows():\n",
    "        file_location = os.path.join(image_directory, row[image_column_name])\n",
    "        image = load_img(file_location, target_size=target_size)\n",
    "        image_array = img_to_array(image)\n",
    "        image_data.append(image_array)\n",
    "        labels.append(row['classification'])  # Assign the label to the image\n",
    "    \n",
    "    X = np.array(image_data)\n",
    "    \n",
    "    label_encoder = LabelEncoder()\n",
    "    y = label_encoder.fit_transform(labels)  # Use the labels collected\n",
    "    \n",
    "    data_generator = datagen.flow(X, y, batch_size=batch_size)\n",
    "    \n",
    "    return data_generator, label_encoder"
   ]
  },
  {
   "cell_type": "code",
   "execution_count": 7,
   "metadata": {},
   "outputs": [],
   "source": [
    "# Preprocess the training and testing data\n",
    "train_data_generator, label_encoder = preprocess_data(train_data, image_column_name, image_directory)\n",
    "test_data_generator, _ = preprocess_data(test_data, image_column_name, image_directory)"
   ]
  },
  {
   "cell_type": "markdown",
   "metadata": {},
   "source": [
    "### Building the Model"
   ]
  },
  {
   "cell_type": "code",
   "execution_count": 8,
   "metadata": {},
   "outputs": [],
   "source": [
    "# Build the CNN model\n",
    "model = keras.Sequential([\n",
    "    keras.layers.Conv2D(32, (3, 3), activation='relu', input_shape=(224, 224, 3)),\n",
    "    keras.layers.MaxPooling2D((2, 2)),\n",
    "    keras.layers.Flatten(),\n",
    "    keras.layers.Dense(128, activation='relu'),\n",
    "    keras.layers.Dense(len(label_encoder.classes_), activation='softmax')\n",
    "])"
   ]
  },
  {
   "cell_type": "markdown",
   "metadata": {},
   "source": [
    "### Compiling the Model"
   ]
  },
  {
   "cell_type": "code",
   "execution_count": 9,
   "metadata": {},
   "outputs": [],
   "source": [
    "# Compile the model\n",
    "model.compile(optimizer='adam', loss='sparse_categorical_crossentropy', metrics=['accuracy'])"
   ]
  },
  {
   "cell_type": "markdown",
   "metadata": {},
   "source": [
    "### Training the Model"
   ]
  },
  {
   "cell_type": "code",
   "execution_count": 10,
   "metadata": {},
   "outputs": [
    {
     "name": "stdout",
     "output_type": "stream",
     "text": [
      "Epoch 1/20\n",
      "49/49 [==============================] - 18s 366ms/step - loss: 5.5474 - accuracy: 0.2597 - val_loss: 1.5357 - val_accuracy: 0.2975\n",
      "Epoch 2/20\n",
      "49/49 [==============================] - 18s 362ms/step - loss: 1.4074 - accuracy: 0.3957 - val_loss: 1.5400 - val_accuracy: 0.3221\n",
      "Epoch 3/20\n",
      "49/49 [==============================] - 18s 369ms/step - loss: 1.2490 - accuracy: 0.5078 - val_loss: 1.4931 - val_accuracy: 0.3589\n",
      "Epoch 4/20\n",
      "49/49 [==============================] - 17s 353ms/step - loss: 1.0534 - accuracy: 0.6218 - val_loss: 1.5632 - val_accuracy: 0.3344\n",
      "Epoch 5/20\n",
      "49/49 [==============================] - 17s 349ms/step - loss: 0.8807 - accuracy: 0.6975 - val_loss: 1.6505 - val_accuracy: 0.3620\n",
      "Epoch 6/20\n",
      "49/49 [==============================] - 17s 353ms/step - loss: 0.7020 - accuracy: 0.7785 - val_loss: 1.6413 - val_accuracy: 0.3190\n",
      "Epoch 7/20\n",
      "49/49 [==============================] - 17s 352ms/step - loss: 0.5326 - accuracy: 0.8459 - val_loss: 1.6981 - val_accuracy: 0.3190\n",
      "Epoch 8/20\n",
      "49/49 [==============================] - 17s 354ms/step - loss: 0.4048 - accuracy: 0.8892 - val_loss: 1.7423 - val_accuracy: 0.3129\n",
      "Epoch 9/20\n",
      "49/49 [==============================] - 17s 355ms/step - loss: 0.2894 - accuracy: 0.9262 - val_loss: 1.9007 - val_accuracy: 0.3313\n",
      "Epoch 10/20\n",
      "49/49 [==============================] - 18s 375ms/step - loss: 0.2110 - accuracy: 0.9624 - val_loss: 2.0007 - val_accuracy: 0.3344\n",
      "Epoch 11/20\n",
      "49/49 [==============================] - 20s 410ms/step - loss: 0.1482 - accuracy: 0.9780 - val_loss: 2.2342 - val_accuracy: 0.3067\n",
      "Epoch 12/20\n",
      "49/49 [==============================] - 20s 400ms/step - loss: 0.1201 - accuracy: 0.9851 - val_loss: 2.2105 - val_accuracy: 0.3129\n",
      "Epoch 13/20\n",
      "49/49 [==============================] - 19s 380ms/step - loss: 0.0834 - accuracy: 0.9890 - val_loss: 2.2226 - val_accuracy: 0.3282\n",
      "Epoch 14/20\n",
      "49/49 [==============================] - 19s 384ms/step - loss: 0.0802 - accuracy: 0.9890 - val_loss: 2.2519 - val_accuracy: 0.3129\n",
      "Epoch 15/20\n",
      "49/49 [==============================] - 19s 381ms/step - loss: 0.0560 - accuracy: 0.9916 - val_loss: 2.3430 - val_accuracy: 0.3129\n",
      "Epoch 16/20\n",
      "49/49 [==============================] - 19s 391ms/step - loss: 0.0521 - accuracy: 0.9929 - val_loss: 2.4243 - val_accuracy: 0.3129\n",
      "Epoch 17/20\n",
      "49/49 [==============================] - 18s 376ms/step - loss: 0.0431 - accuracy: 0.9909 - val_loss: 2.5656 - val_accuracy: 0.2761\n",
      "Epoch 18/20\n",
      "49/49 [==============================] - 19s 389ms/step - loss: 0.0373 - accuracy: 0.9942 - val_loss: 2.5567 - val_accuracy: 0.3252\n",
      "Epoch 19/20\n",
      "49/49 [==============================] - 19s 387ms/step - loss: 0.0395 - accuracy: 0.9916 - val_loss: 2.6487 - val_accuracy: 0.3436\n",
      "Epoch 20/20\n",
      "49/49 [==============================] - 19s 378ms/step - loss: 0.0373 - accuracy: 0.9922 - val_loss: 2.4687 - val_accuracy: 0.3528\n"
     ]
    }
   ],
   "source": [
    "# Train the model and collect training history\n",
    "history = model.fit(train_data_generator, epochs=20, validation_data=test_data_generator)"
   ]
  },
  {
   "cell_type": "code",
   "execution_count": 11,
   "metadata": {},
   "outputs": [],
   "source": [
    "# Extract training history\n",
    "train_loss = history.history['loss']\n",
    "train_accuracy = history.history['accuracy']\n",
    "val_loss = history.history['val_loss']\n",
    "val_accuracy = history.history['val_accuracy']"
   ]
  },
  {
   "cell_type": "code",
   "execution_count": 12,
   "metadata": {},
   "outputs": [
    {
     "data": {
      "text/plain": [
       "<matplotlib.legend.Legend at 0x19d6fcd6650>"
      ]
     },
     "execution_count": 12,
     "metadata": {},
     "output_type": "execute_result"
    },
    {
     "data": {
      "image/png": "[encoded data removed]",
      "text/plain": [
       "<Figure size 1200x500 with 1 Axes>"
      ]
     },
     "metadata": {},
     "output_type": "display_data"
    }
   ],
   "source": [
    "# Plot training and validation loss\n",
    "plt.figure(figsize=(12, 5))\n",
    "plt.subplot(1, 2, 1)\n",
    "plt.plot(train_loss, label='Training Loss')\n",
    "plt.plot(val_loss, label='Validation Loss')\n",
    "plt.title('Loss vs. Epoch')\n",
    "plt.xlabel('Epoch')\n",
    "plt.ylabel('Loss')\n",
    "plt.legend()"
   ]
  },
  {
   "cell_type": "code",
   "execution_count": 13,
   "metadata": {},
   "outputs": [
    {
     "data": {
      "text/plain": [
       "<matplotlib.legend.Legend at 0x19d6fd32230>"
      ]
     },
     "execution_count": 13,
     "metadata": {},
     "output_type": "execute_result"
    },
    {
     "data": {
      "image/png": "[encoded data removed]",
      "text/plain": [
       "<Figure size 640x480 with 1 Axes>"
      ]
     },
     "metadata": {},
     "output_type": "display_data"
    }
   ],
   "source": [
    "# Plot training and validation accuracy\n",
    "plt.subplot(1, 2, 2)\n",
    "plt.plot(train_accuracy, label='Training Accuracy')\n",
    "plt.plot(val_accuracy, label='Validation Accuracy')\n",
    "plt.title('Accuracy vs. Epoch')\n",
    "plt.xlabel('Epoch')\n",
    "plt.ylabel('Accuracy')\n",
    "plt.legend()"
   ]
  },
  {
   "cell_type": "markdown",
   "metadata": {},
   "source": [
    "### Evaluating the Model"
   ]
  },
  {
   "cell_type": "code",
   "execution_count": 14,
   "metadata": {},
   "outputs": [
    {
     "name": "stdout",
     "output_type": "stream",
     "text": [
      "11/11 [==============================] - 1s 89ms/step - loss: 2.4687 - accuracy: 0.3528\n",
      "Test Loss: 2.4687\n",
      "Test Accuracy: 0.3528\n"
     ]
    }
   ],
   "source": [
    "test_loss, test_accuracy = model.evaluate(test_data_generator)\n",
    "print(f\"Test Loss: {test_loss:.4f}\")\n",
    "print(f\"Test Accuracy: {test_accuracy:.4f}\")"
   ]
  }
 ],
 "metadata": {
  "kernelspec": {
   "display_name": "data_science",
   "language": "python",
   "name": "python3"
  },
  "language_info": {
   "codemirror_mode": {
    "name": "ipython",
    "version": 3
   },
   "file_extension": ".py",
   "mimetype": "text/x-python",
   "name": "python",
   "nbconvert_exporter": "python",
   "pygments_lexer": "ipython3",
   "version": "3.10.13"
  }
 },
 "nbformat": 4,
 "nbformat_minor": 2
}
