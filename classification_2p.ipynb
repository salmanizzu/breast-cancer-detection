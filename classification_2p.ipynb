{
 "cells": [
  {
   "cell_type": "markdown",
   "metadata": {},
   "source": [
    "# Breast Cancer Detection #2\n",
    "This project expands on the previous breast cancer detection model by incorporating additional parameters. We utilize both standard and cropped CT scan images to improve the model's accuracy. The goal is to create a more robust machine-learning model capable of accurately detecting breast cancer from medical imaging data."
   ]
  },
  {
   "cell_type": "markdown",
   "metadata": {},
   "source": [
    "### Importing Libraries"
   ]
  },
  {
   "cell_type": "code",
   "execution_count": 15,
   "metadata": {},
   "outputs": [],
   "source": [
    "import os\n",
    "import numpy as np\n",
    "import pandas as pd\n",
    "import matplotlib.pyplot as plt\n",
    "import tensorflow as tf\n",
    "from tensorflow import keras\n",
    "from sklearn.preprocessing import LabelEncoder\n",
    "from tensorflow.keras.preprocessing.image import load_img, img_to_array"
   ]
  },
  {
   "cell_type": "markdown",
   "metadata": {},
   "source": [
    "### Loading the Data"
   ]
  },
  {
   "cell_type": "code",
   "execution_count": 16,
   "metadata": {},
   "outputs": [],
   "source": [
    "# Load your training and testing data with a semicolon delimiter\n",
    "train_data = pd.read_csv('train_data_2p.csv', delimiter=';')\n",
    "test_data = pd.read_csv('test_data_2p.csv', delimiter=';')"
   ]
  },
  {
   "cell_type": "markdown",
   "metadata": {},
   "source": [
    "### Exploring the Data"
   ]
  },
  {
   "cell_type": "code",
   "execution_count": 17,
   "metadata": {},
   "outputs": [
    {
     "data": {
      "text/html": [
       "<div>\n",
       "<style scoped>\n",
       "    .dataframe tbody tr th:only-of-type {\n",
       "        vertical-align: middle;\n",
       "    }\n",
       "\n",
       "    .dataframe tbody tr th {\n",
       "        vertical-align: top;\n",
       "    }\n",
       "\n",
       "    .dataframe thead th {\n",
       "        text-align: right;\n",
       "    }\n",
       "</style>\n",
       "<table border=\"1\" class=\"dataframe\">\n",
       "  <thead>\n",
       "    <tr style=\"text-align: right;\">\n",
       "      <th></th>\n",
       "      <th>ct scan</th>\n",
       "      <th>cropped ct scan</th>\n",
       "      <th>classification</th>\n",
       "    </tr>\n",
       "  </thead>\n",
       "  <tbody>\n",
       "    <tr>\n",
       "      <th>1534</th>\n",
       "      <td>1.3.6.1.4.1.9590.100.1.2.398510539611405601424...</td>\n",
       "      <td>1.3.6.1.4.1.9590.100.1.2.275982981411695551937...</td>\n",
       "      <td>4</td>\n",
       "    </tr>\n",
       "    <tr>\n",
       "      <th>1535</th>\n",
       "      <td>1.3.6.1.4.1.9590.100.1.2.327261889611833044623...</td>\n",
       "      <td>1.3.6.1.4.1.9590.100.1.2.689558302137605335110...</td>\n",
       "      <td>4</td>\n",
       "    </tr>\n",
       "    <tr>\n",
       "      <th>1536</th>\n",
       "      <td>1.3.6.1.4.1.9590.100.1.2.148920323810559075320...</td>\n",
       "      <td>1.3.6.1.4.1.9590.100.1.2.347949749311400992306...</td>\n",
       "      <td>2</td>\n",
       "    </tr>\n",
       "    <tr>\n",
       "      <th>1537</th>\n",
       "      <td>1.3.6.1.4.1.9590.100.1.2.141379766611952338808...</td>\n",
       "      <td>1.3.6.1.4.1.9590.100.1.2.471800501113278079404...</td>\n",
       "      <td>2</td>\n",
       "    </tr>\n",
       "    <tr>\n",
       "      <th>1538</th>\n",
       "      <td>1.3.6.1.4.1.9590.100.1.2.163878893312280121829...</td>\n",
       "      <td>1.3.6.1.4.1.9590.100.1.2.336349754511972262635...</td>\n",
       "      <td>5</td>\n",
       "    </tr>\n",
       "    <tr>\n",
       "      <th>1539</th>\n",
       "      <td>1.3.6.1.4.1.9590.100.1.2.215164923711360518726...</td>\n",
       "      <td>1.3.6.1.4.1.9590.100.1.2.126466180112225633704...</td>\n",
       "      <td>5</td>\n",
       "    </tr>\n",
       "    <tr>\n",
       "      <th>1540</th>\n",
       "      <td>1.3.6.1.4.1.9590.100.1.2.398227953312611741920...</td>\n",
       "      <td>1.3.6.1.4.1.9590.100.1.2.144395473912570122935...</td>\n",
       "      <td>2</td>\n",
       "    </tr>\n",
       "    <tr>\n",
       "      <th>1541</th>\n",
       "      <td>1.3.6.1.4.1.9590.100.1.2.832140770136026940308...</td>\n",
       "      <td>1.3.6.1.4.1.9590.100.1.2.177833786212905547113...</td>\n",
       "      <td>2</td>\n",
       "    </tr>\n",
       "    <tr>\n",
       "      <th>1542</th>\n",
       "      <td>1.3.6.1.4.1.9590.100.1.2.114030713125639071286...</td>\n",
       "      <td>1.3.6.1.4.1.9590.100.1.2.420697654133217172227...</td>\n",
       "      <td>4</td>\n",
       "    </tr>\n",
       "    <tr>\n",
       "      <th>1543</th>\n",
       "      <td>1.3.6.1.4.1.9590.100.1.2.197835155813429240930...</td>\n",
       "      <td>1.3.6.1.4.1.9590.100.1.2.376397880911533038033...</td>\n",
       "      <td>4</td>\n",
       "    </tr>\n",
       "  </tbody>\n",
       "</table>\n",
       "</div>"
      ],
      "text/plain": [
       "                                                ct scan  \\\n",
       "1534  1.3.6.1.4.1.9590.100.1.2.398510539611405601424...   \n",
       "1535  1.3.6.1.4.1.9590.100.1.2.327261889611833044623...   \n",
       "1536  1.3.6.1.4.1.9590.100.1.2.148920323810559075320...   \n",
       "1537  1.3.6.1.4.1.9590.100.1.2.141379766611952338808...   \n",
       "1538  1.3.6.1.4.1.9590.100.1.2.163878893312280121829...   \n",
       "1539  1.3.6.1.4.1.9590.100.1.2.215164923711360518726...   \n",
       "1540  1.3.6.1.4.1.9590.100.1.2.398227953312611741920...   \n",
       "1541  1.3.6.1.4.1.9590.100.1.2.832140770136026940308...   \n",
       "1542  1.3.6.1.4.1.9590.100.1.2.114030713125639071286...   \n",
       "1543  1.3.6.1.4.1.9590.100.1.2.197835155813429240930...   \n",
       "\n",
       "                                        cropped ct scan  classification  \n",
       "1534  1.3.6.1.4.1.9590.100.1.2.275982981411695551937...               4  \n",
       "1535  1.3.6.1.4.1.9590.100.1.2.689558302137605335110...               4  \n",
       "1536  1.3.6.1.4.1.9590.100.1.2.347949749311400992306...               2  \n",
       "1537  1.3.6.1.4.1.9590.100.1.2.471800501113278079404...               2  \n",
       "1538  1.3.6.1.4.1.9590.100.1.2.336349754511972262635...               5  \n",
       "1539  1.3.6.1.4.1.9590.100.1.2.126466180112225633704...               5  \n",
       "1540  1.3.6.1.4.1.9590.100.1.2.144395473912570122935...               2  \n",
       "1541  1.3.6.1.4.1.9590.100.1.2.177833786212905547113...               2  \n",
       "1542  1.3.6.1.4.1.9590.100.1.2.420697654133217172227...               4  \n",
       "1543  1.3.6.1.4.1.9590.100.1.2.376397880911533038033...               4  "
      ]
     },
     "execution_count": 17,
     "metadata": {},
     "output_type": "execute_result"
    }
   ],
   "source": [
    "train_data.tail(10)"
   ]
  },
  {
   "cell_type": "code",
   "execution_count": 18,
   "metadata": {},
   "outputs": [
    {
     "data": {
      "text/html": [
       "<div>\n",
       "<style scoped>\n",
       "    .dataframe tbody tr th:only-of-type {\n",
       "        vertical-align: middle;\n",
       "    }\n",
       "\n",
       "    .dataframe tbody tr th {\n",
       "        vertical-align: top;\n",
       "    }\n",
       "\n",
       "    .dataframe thead th {\n",
       "        text-align: right;\n",
       "    }\n",
       "</style>\n",
       "<table border=\"1\" class=\"dataframe\">\n",
       "  <thead>\n",
       "    <tr style=\"text-align: right;\">\n",
       "      <th></th>\n",
       "      <th>ct scan</th>\n",
       "      <th>cropped ct scan</th>\n",
       "      <th>classification</th>\n",
       "    </tr>\n",
       "  </thead>\n",
       "  <tbody>\n",
       "    <tr>\n",
       "      <th>316</th>\n",
       "      <td>1.3.6.1.4.1.9590.100.1.2.267631872912076578535...</td>\n",
       "      <td>1.3.6.1.4.1.9590.100.1.2.115163798412033576942...</td>\n",
       "      <td>4</td>\n",
       "    </tr>\n",
       "    <tr>\n",
       "      <th>317</th>\n",
       "      <td>1.3.6.1.4.1.9590.100.1.2.171130805912113865022...</td>\n",
       "      <td>1.3.6.1.4.1.9590.100.1.2.969547553134480777268...</td>\n",
       "      <td>4</td>\n",
       "    </tr>\n",
       "    <tr>\n",
       "      <th>318</th>\n",
       "      <td>1.3.6.1.4.1.9590.100.1.2.127823446114126149027...</td>\n",
       "      <td>1.3.6.1.4.1.9590.100.1.2.364806155210887696726...</td>\n",
       "      <td>3</td>\n",
       "    </tr>\n",
       "    <tr>\n",
       "      <th>319</th>\n",
       "      <td>1.3.6.1.4.1.9590.100.1.2.284356402310994259807...</td>\n",
       "      <td>1.3.6.1.4.1.9590.100.1.2.993548952115960407215...</td>\n",
       "      <td>3</td>\n",
       "    </tr>\n",
       "    <tr>\n",
       "      <th>320</th>\n",
       "      <td>1.3.6.1.4.1.9590.100.1.2.165100488610511635540...</td>\n",
       "      <td>1.3.6.1.4.1.9590.100.1.2.189733200912008359037...</td>\n",
       "      <td>4</td>\n",
       "    </tr>\n",
       "    <tr>\n",
       "      <th>321</th>\n",
       "      <td>1.3.6.1.4.1.9590.100.1.2.242128209412592948513...</td>\n",
       "      <td>1.3.6.1.4.1.9590.100.1.2.526198631111753026131...</td>\n",
       "      <td>4</td>\n",
       "    </tr>\n",
       "    <tr>\n",
       "      <th>322</th>\n",
       "      <td>1.3.6.1.4.1.9590.100.1.2.277098686410919869923...</td>\n",
       "      <td>1.3.6.1.4.1.9590.100.1.2.355286671810515664909...</td>\n",
       "      <td>3</td>\n",
       "    </tr>\n",
       "    <tr>\n",
       "      <th>323</th>\n",
       "      <td>1.3.6.1.4.1.9590.100.1.2.258951180113994815379...</td>\n",
       "      <td>1.3.6.1.4.1.9590.100.1.2.366216590611306753640...</td>\n",
       "      <td>3</td>\n",
       "    </tr>\n",
       "    <tr>\n",
       "      <th>324</th>\n",
       "      <td>1.3.6.1.4.1.9590.100.1.2.232308535910657861814...</td>\n",
       "      <td>1.3.6.1.4.1.9590.100.1.2.275923704411531002833...</td>\n",
       "      <td>3</td>\n",
       "    </tr>\n",
       "    <tr>\n",
       "      <th>325</th>\n",
       "      <td>1.3.6.1.4.1.9590.100.1.2.220517698812723136111...</td>\n",
       "      <td>1.3.6.1.4.1.9590.100.1.2.415945278010571172614...</td>\n",
       "      <td>3</td>\n",
       "    </tr>\n",
       "  </tbody>\n",
       "</table>\n",
       "</div>"
      ],
      "text/plain": [
       "                                               ct scan  \\\n",
       "316  1.3.6.1.4.1.9590.100.1.2.267631872912076578535...   \n",
       "317  1.3.6.1.4.1.9590.100.1.2.171130805912113865022...   \n",
       "318  1.3.6.1.4.1.9590.100.1.2.127823446114126149027...   \n",
       "319  1.3.6.1.4.1.9590.100.1.2.284356402310994259807...   \n",
       "320  1.3.6.1.4.1.9590.100.1.2.165100488610511635540...   \n",
       "321  1.3.6.1.4.1.9590.100.1.2.242128209412592948513...   \n",
       "322  1.3.6.1.4.1.9590.100.1.2.277098686410919869923...   \n",
       "323  1.3.6.1.4.1.9590.100.1.2.258951180113994815379...   \n",
       "324  1.3.6.1.4.1.9590.100.1.2.232308535910657861814...   \n",
       "325  1.3.6.1.4.1.9590.100.1.2.220517698812723136111...   \n",
       "\n",
       "                                       cropped ct scan  classification  \n",
       "316  1.3.6.1.4.1.9590.100.1.2.115163798412033576942...               4  \n",
       "317  1.3.6.1.4.1.9590.100.1.2.969547553134480777268...               4  \n",
       "318  1.3.6.1.4.1.9590.100.1.2.364806155210887696726...               3  \n",
       "319  1.3.6.1.4.1.9590.100.1.2.993548952115960407215...               3  \n",
       "320  1.3.6.1.4.1.9590.100.1.2.189733200912008359037...               4  \n",
       "321  1.3.6.1.4.1.9590.100.1.2.526198631111753026131...               4  \n",
       "322  1.3.6.1.4.1.9590.100.1.2.355286671810515664909...               3  \n",
       "323  1.3.6.1.4.1.9590.100.1.2.366216590611306753640...               3  \n",
       "324  1.3.6.1.4.1.9590.100.1.2.275923704411531002833...               3  \n",
       "325  1.3.6.1.4.1.9590.100.1.2.415945278010571172614...               3  "
      ]
     },
     "execution_count": 18,
     "metadata": {},
     "output_type": "execute_result"
    }
   ],
   "source": [
    "test_data.tail(10)"
   ]
  },
  {
   "cell_type": "markdown",
   "metadata": {},
   "source": [
    "### Setting Up Image Directories"
   ]
  },
  {
   "cell_type": "code",
   "execution_count": 19,
   "metadata": {},
   "outputs": [],
   "source": [
    "# Define the directory containing the images\n",
    "image_directory = 'jpeg'  # Adjust this to the path of your \"jpeg\" directory\n",
    "\n",
    "# Define the column names in your CSV file that contain the file paths\n",
    "image_column_names = [\"ct scan\", \"cropped ct scan\"]"
   ]
  },
  {
   "cell_type": "markdown",
   "metadata": {},
   "source": [
    "### Data Preprocessing"
   ]
  },
  {
   "cell_type": "code",
   "execution_count": 20,
   "metadata": {},
   "outputs": [],
   "source": [
    "# Define a function to preprocess the data\n",
    "def preprocess_data(data, image_column_names, image_directory, target_size=(224, 224), batch_size=32):\n",
    "    datagen = keras.preprocessing.image.ImageDataGenerator(rescale=1./255)\n",
    "    \n",
    "    image_data = []\n",
    "    labels = []  # Store the labels for each image\n",
    "    \n",
    "    for _, row in data.iterrows():\n",
    "        for column_name in image_column_names:\n",
    "            file_location = os.path.join(image_directory, row[column_name])\n",
    "            image = load_img(file_location, target_size=target_size)\n",
    "            image_array = img_to_array(image)\n",
    "            image_data.append(image_array)\n",
    "            labels.append(row['classification'])  # Assign the label to the image\n",
    "    \n",
    "    X = np.array(image_data)\n",
    "    \n",
    "    label_encoder = LabelEncoder()\n",
    "    y = label_encoder.fit_transform(labels)  # Use the labels collected\n",
    "    \n",
    "    data_generator = datagen.flow(X, y, batch_size=batch_size)\n",
    "    \n",
    "    return data_generator, label_encoder"
   ]
  },
  {
   "cell_type": "code",
   "execution_count": 21,
   "metadata": {},
   "outputs": [],
   "source": [
    "# Preprocess the training and testing data\n",
    "train_data_generator, label_encoder = preprocess_data(train_data, image_column_names, image_directory)\n",
    "test_data_generator, _ = preprocess_data(test_data, image_column_names, image_directory)"
   ]
  },
  {
   "cell_type": "markdown",
   "metadata": {},
   "source": [
    "### Building a More Complex Model"
   ]
  },
  {
   "cell_type": "code",
   "execution_count": 22,
   "metadata": {},
   "outputs": [],
   "source": [
    "# Build the CNN model\n",
    "model = keras.Sequential([\n",
    "    keras.layers.Conv2D(32, (3, 3), activation='relu', input_shape=(224, 224, 3)),\n",
    "    keras.layers.MaxPooling2D((2, 2)),\n",
    "    keras.layers.Flatten(),\n",
    "    keras.layers.Dense(128, activation='relu'),\n",
    "    keras.layers.Dense(len(label_encoder.classes_), activation='softmax')\n",
    "])"
   ]
  },
  {
   "cell_type": "markdown",
   "metadata": {},
   "source": [
    "### Compiling the Model"
   ]
  },
  {
   "cell_type": "code",
   "execution_count": 23,
   "metadata": {},
   "outputs": [],
   "source": [
    "# Compile the model\n",
    "model.compile(optimizer='adam', loss='sparse_categorical_crossentropy', metrics=['accuracy'])"
   ]
  },
  {
   "cell_type": "markdown",
   "metadata": {},
   "source": [
    "### Training the Model"
   ]
  },
  {
   "cell_type": "code",
   "execution_count": 24,
   "metadata": {},
   "outputs": [
    {
     "name": "stdout",
     "output_type": "stream",
     "text": [
      "Epoch 1/20\n",
      "97/97 [==============================] - 34s 342ms/step - loss: 5.3513 - accuracy: 0.2814 - val_loss: 1.5572 - val_accuracy: 0.2745\n",
      "Epoch 2/20\n",
      "97/97 [==============================] - 34s 349ms/step - loss: 1.4741 - accuracy: 0.3546 - val_loss: 1.5328 - val_accuracy: 0.3221\n",
      "Epoch 3/20\n",
      "97/97 [==============================] - 33s 338ms/step - loss: 1.3673 - accuracy: 0.4113 - val_loss: 1.5183 - val_accuracy: 0.3328\n",
      "Epoch 4/20\n",
      "97/97 [==============================] - 33s 338ms/step - loss: 1.2661 - accuracy: 0.4705 - val_loss: 1.6557 - val_accuracy: 0.3282\n",
      "Epoch 5/20\n",
      "97/97 [==============================] - 32s 333ms/step - loss: 1.1303 - accuracy: 0.5534 - val_loss: 1.5728 - val_accuracy: 0.3252\n",
      "Epoch 6/20\n",
      "97/97 [==============================] - 33s 340ms/step - loss: 0.9819 - accuracy: 0.6315 - val_loss: 1.5952 - val_accuracy: 0.2715\n",
      "Epoch 7/20\n",
      "97/97 [==============================] - 33s 342ms/step - loss: 0.8165 - accuracy: 0.7115 - val_loss: 1.6304 - val_accuracy: 0.2730\n",
      "Epoch 8/20\n",
      "97/97 [==============================] - 33s 342ms/step - loss: 0.6476 - accuracy: 0.7931 - val_loss: 1.7483 - val_accuracy: 0.2883\n",
      "Epoch 9/20\n",
      "97/97 [==============================] - 33s 341ms/step - loss: 0.4729 - accuracy: 0.8595 - val_loss: 1.9731 - val_accuracy: 0.2669\n",
      "Epoch 10/20\n",
      "97/97 [==============================] - 33s 338ms/step - loss: 0.3624 - accuracy: 0.9116 - val_loss: 1.9612 - val_accuracy: 0.2791\n",
      "Epoch 11/20\n",
      "97/97 [==============================] - 32s 334ms/step - loss: 0.2538 - accuracy: 0.9456 - val_loss: 2.1608 - val_accuracy: 0.2699\n",
      "Epoch 12/20\n",
      "97/97 [==============================] - 33s 344ms/step - loss: 0.1775 - accuracy: 0.9660 - val_loss: 2.2696 - val_accuracy: 0.2715\n",
      "Epoch 13/20\n",
      "97/97 [==============================] - 33s 343ms/step - loss: 0.1349 - accuracy: 0.9799 - val_loss: 2.4109 - val_accuracy: 0.2669\n",
      "Epoch 14/20\n",
      "97/97 [==============================] - 34s 347ms/step - loss: 0.0955 - accuracy: 0.9900 - val_loss: 2.3964 - val_accuracy: 0.2837\n",
      "Epoch 15/20\n",
      "97/97 [==============================] - 33s 342ms/step - loss: 0.0798 - accuracy: 0.9890 - val_loss: 2.4667 - val_accuracy: 0.2699\n",
      "Epoch 16/20\n",
      "97/97 [==============================] - 34s 347ms/step - loss: 0.0690 - accuracy: 0.9932 - val_loss: 2.5885 - val_accuracy: 0.2945\n",
      "Epoch 17/20\n",
      "97/97 [==============================] - 33s 341ms/step - loss: 0.0502 - accuracy: 0.9951 - val_loss: 2.7970 - val_accuracy: 0.2868\n",
      "Epoch 18/20\n",
      "97/97 [==============================] - 33s 341ms/step - loss: 0.0461 - accuracy: 0.9955 - val_loss: 2.7988 - val_accuracy: 0.2699\n",
      "Epoch 19/20\n",
      "97/97 [==============================] - 33s 344ms/step - loss: 0.0419 - accuracy: 0.9951 - val_loss: 2.7853 - val_accuracy: 0.2807\n",
      "Epoch 20/20\n",
      "97/97 [==============================] - 34s 349ms/step - loss: 0.0350 - accuracy: 0.9961 - val_loss: 3.0634 - val_accuracy: 0.2975\n"
     ]
    }
   ],
   "source": [
    "# Train the model and collect training history\n",
    "history = model.fit(train_data_generator, epochs=20, validation_data=test_data_generator)"
   ]
  },
  {
   "cell_type": "code",
   "execution_count": 25,
   "metadata": {},
   "outputs": [],
   "source": [
    "# Extract training history\n",
    "train_loss = history.history['loss']\n",
    "train_accuracy = history.history['accuracy']\n",
    "val_loss = history.history['val_loss']\n",
    "val_accuracy = history.history['val_accuracy']"
   ]
  },
  {
   "cell_type": "code",
   "execution_count": 26,
   "metadata": {},
   "outputs": [
    {
     "data": {
      "text/plain": [
       "<matplotlib.legend.Legend at 0x207524a3430>"
      ]
     },
     "execution_count": 26,
     "metadata": {},
     "output_type": "execute_result"
    },
    {
     "data": {
      "image/png": "[encoded data removed]",
      "text/plain": [
       "<Figure size 1200x500 with 1 Axes>"
      ]
     },
     "metadata": {},
     "output_type": "display_data"
    }
   ],
   "source": [
    "# Plot training and validation loss\n",
    "plt.figure(figsize=(12, 5))\n",
    "plt.subplot(1, 2, 1)\n",
    "plt.plot(train_loss, label='Training Loss')\n",
    "plt.plot(val_loss, label='Validation Loss')\n",
    "plt.title('Loss vs. Epoch')\n",
    "plt.xlabel('Epoch')\n",
    "plt.ylabel('Loss')\n",
    "plt.legend()"
   ]
  },
  {
   "cell_type": "code",
   "execution_count": 27,
   "metadata": {},
   "outputs": [
    {
     "data": {
      "text/plain": [
       "<matplotlib.legend.Legend at 0x207947e3490>"
      ]
     },
     "execution_count": 27,
     "metadata": {},
     "output_type": "execute_result"
    },
    {
     "data": {
      "image/png": "[encoded data removed]",
      "text/plain": [
       "<Figure size 640x480 with 1 Axes>"
      ]
     },
     "metadata": {},
     "output_type": "display_data"
    }
   ],
   "source": [
    "# Plot training and validation accuracy\n",
    "plt.subplot(1, 2, 2)\n",
    "plt.plot(train_accuracy, label='Training Accuracy')\n",
    "plt.plot(val_accuracy, label='Validation Accuracy')\n",
    "plt.title('Accuracy vs. Epoch')\n",
    "plt.xlabel('Epoch')\n",
    "plt.ylabel('Accuracy')\n",
    "plt.legend()"
   ]
  },
  {
   "cell_type": "markdown",
   "metadata": {},
   "source": [
    "### Evaluating the Model"
   ]
  },
  {
   "cell_type": "code",
   "execution_count": 28,
   "metadata": {},
   "outputs": [
    {
     "name": "stdout",
     "output_type": "stream",
     "text": [
      "21/21 [==============================] - 2s 88ms/step - loss: 3.0634 - accuracy: 0.2975\n",
      "Test Loss: 3.0634\n",
      "Test Accuracy: 0.2975\n"
     ]
    }
   ],
   "source": [
    "test_loss, test_accuracy = model.evaluate(test_data_generator)\n",
    "print(f\"Test Loss: {test_loss:.4f}\")\n",
    "print(f\"Test Accuracy: {test_accuracy:.4f}\")"
   ]
  }
 ],
 "metadata": {
  "kernelspec": {
   "display_name": "data_science",
   "language": "python",
   "name": "python3"
  },
  "language_info": {
   "codemirror_mode": {
    "name": "ipython",
    "version": 3
   },
   "file_extension": ".py",
   "mimetype": "text/x-python",
   "name": "python",
   "nbconvert_exporter": "python",
   "pygments_lexer": "ipython3",
   "version": "3.10.13"
  }
 },
 "nbformat": 4,
 "nbformat_minor": 2
}
